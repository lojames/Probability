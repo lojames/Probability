{
 "cells": [
  {
   "cell_type": "markdown",
   "id": "1370de1d",
   "metadata": {},
   "source": [
    "## Course Link\n",
    "\n",
    "https://learning.edx.org/course/course-v1:MITx+6.431x+1T2022/home"
   ]
  },
  {
   "cell_type": "markdown",
   "id": "0628bad7",
   "metadata": {},
   "source": [
    "# Probabilistic Modelling\n",
    "To put together a probabilistic model we:\n",
    "1. Describe possible outcomes of the phenomenon/experiment.\n",
    "2. Describe our beliefs about the likelihood of outcomes of the different possible outcomes by specifying a probability law.\n",
    "\n",
    "Step 1 involves defining a **sample space**. \n",
    "\n",
    "### Sample Space\n",
    "The **sample space** is a set of all possible outcomes, $\\mathsf{\\Omega}$ (omega), of the experiment/phenomenon.  This is also known as the universal set.\n",
    "\n",
    "In a **sample space** the elements of the set must be:\n",
    "* Mutually exclusive\n",
    "* Collectively exhaustive\n",
    "* Appropriate granularity - the elements are of the right level of detail which captures the aspects that are relevant and of interest to the problem at hand\n",
    "\n",
    "Probabilistic experiments that can be described in phases or stages can be represented with a tree diagram.  The following tree diagram represents an experiment where a coin is rolled twice: \n",
    "\n",
    "<img src='images/tree.png'>\n",
    "\n",
    "For step 2, we need to specify the probability of each outcome.\n",
    "\n",
    "### Event\n",
    "A subset of the sample space. In the case of continuous sample spaces probabilities are assigned to subsets of the sample space."
   ]
  },
  {
   "cell_type": "markdown",
   "id": "e96fffd9",
   "metadata": {},
   "source": [
    "### Probability Axioms\n",
    "1. $P(A) \\geq 0$ (nonnegativity)\n",
    "2. $P(\\mathsf{\\Omega}) = 1$ (normalization)\n",
    "3. If $A \\cap B = \\emptyset$, then $P(A \\cup B) = P(A) + P(B)$ (additivity)\n",
    "\n",
    "#### General Consequences of the Probability Axioms:\n",
    "* $P(A) \\leq 1$\n",
    "* $P(\\emptyset) = 0$\n",
    "* $P(A) + P(A^c) = 1$\n",
    "* If $A \\subset B$, then $P(A) \\leq P(B)$\n",
    "* $P(A \\cup B) = P(A) + P(B) - P(A \\cap B)$\n",
    "* $P(A \\cup B) \\leq P(A) + P(B)$ (union of events bound)\n",
    "* $P(A \\cup B \\cup C) = P(A) + P(A^c \\cap B) + P(A^c \\cap B^c \\cap C)$\n",
    "\n",
    "#### Consequences of the Probability Axioms for Disjoint Events:\n",
    "* $P(A \\cup B \\cup C) = P(A) + P(B) + P(C)$\n",
    "* $P(A \\cup B \\cup C \\cup \\ldots \\cup k) = P(A) + P(B) + P(C) + \\ldots + P(k)$"
   ]
  },
  {
   "cell_type": "markdown",
   "id": "79735b85",
   "metadata": {},
   "source": [
    "### Calculating Probabilities\n",
    "\n",
    "For two rolls of a tetrahedral die, the sample space can be represented as:\n",
    "<img src ='images/example1.png'>\n",
    "\n",
    "Assume every possible outcome has equal probability (1/16).\n",
    "* $P(X = 1) = 4 * 1/16 = 1/4$\n",
    "\n",
    "### The Discrete Uniform Law\n",
    "\n",
    "* Assume $\\mathsf{\\Omega}$ consists of $n$ equally likely elements\n",
    "* Assume $A$ consists of $k$ elements\n",
    "* The probability of each element is $1/n$.\n",
    "\n",
    "### Steps of Calculating Probabilities\n",
    "1. Specify the sample space.\n",
    "2. Specify the probability law.\n",
    "3. Identify an event of interest.\n",
    "4. Carry out calculation."
   ]
  },
  {
   "cell_type": "code",
   "execution_count": null,
   "id": "df6f5c28",
   "metadata": {},
   "outputs": [],
   "source": []
  }
 ],
 "metadata": {
  "kernelspec": {
   "display_name": "Python 3 (ipykernel)",
   "language": "python",
   "name": "python3"
  },
  "language_info": {
   "codemirror_mode": {
    "name": "ipython",
    "version": 3
   },
   "file_extension": ".py",
   "mimetype": "text/x-python",
   "name": "python",
   "nbconvert_exporter": "python",
   "pygments_lexer": "ipython3",
   "version": "3.9.13"
  }
 },
 "nbformat": 4,
 "nbformat_minor": 5
}
